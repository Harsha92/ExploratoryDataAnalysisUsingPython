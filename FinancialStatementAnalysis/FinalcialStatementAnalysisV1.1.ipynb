{
 "cells": [
  {
   "cell_type": "markdown",
   "metadata": {},
   "source": [
    "## FINANCIAL STATEMENT ANALYSIS\n",
    "As part of this problem statement we are considering two lists of montly revenue and montly expenditure to calculate the profit or loss for the given financial year.  Below are the tasks that are performed on the data\n",
    "financial metrics:\n",
    "- profit for each month\n",
    "- profit after tax for each month (the tax rate is 20%)\n",
    "- profit margin for each month - equals to profit after tax divided by revenue\n",
    "- good months - where the profit after tax was greater than the mean for the year\n",
    "- bad months - where the profit after tax was less than the mean for the year\n",
    "- the best month - where the profit after tax was max for the year\n",
    "- the worst month - where the profit after tax was min for the year\n"
   ]
  },
  {
   "cell_type": "code",
   "execution_count": 1,
   "metadata": {
    "scrolled": false
   },
   "outputs": [
    {
     "name": "stdout",
     "output_type": "stream",
     "text": [
      "Enter the revenue for Jan month : $14574.49\n",
      "Enter the expenses for Jan month : $12051.82\n",
      "Enter the revenue for Feb month : $7606.46\n",
      "Enter the expenses for Feb month : $5695.07\n",
      "Enter the revenue for Mar month : $8611.41\n",
      "Enter the expenses for Mar month : $12319.20\n",
      "Enter the revenue for April month : $9175.41\n",
      "Enter the expenses for April month : $12089.72\n",
      "Enter the revenue for May month : $8058.65\n",
      "Enter the expenses for May month : $8658.57\n",
      "Enter the revenue for June month : $8105.44\n",
      "Enter the expenses for June month : $840.20\n",
      "Enter the revenue for July month : $11496.28\n",
      "Enter the expenses for July month : $3285.73\n",
      "Enter the revenue for Aug month : $9766.09\n",
      "Enter the expenses for Aug month : $5821.12\n",
      "Enter the revenue for Sep month : $10305.32\n",
      "Enter the expenses for Sep month : $6976.93\n",
      "Enter the revenue for Oct month : $14379.96\n",
      "Enter the expenses for Oct month : $16618.61\n",
      "Enter the revenue for Nov month : $10713.97\n",
      "Enter the expenses for Nov month : $10054.37\n",
      "Enter the revenue for Dec month : $15433.50\n",
      "Enter the expenses for Dec month : $3803.96\n",
      "------------------------------------------------------------------------------------\n",
      "Revenue for the year is : [14574.49, 7606.46, 8611.41, 9175.41, 8058.65, 8105.44, 11496.28, 9766.09, 10305.32, 14379.96, 10713.97, 15433.5]\n",
      "Expenses for the year is : [12051.82, 5695.07, 12319.2, 12089.72, 8658.57, 840.2, 3285.73, 5821.12, 6976.93, 16618.61, 10054.37, 3803.96]\n"
     ]
    }
   ],
   "source": [
    "month = {0 : 'Jan', 1 : 'Feb', 2 : 'Mar', 3 : 'April', 4 : 'May', 5 : 'June', 6 : 'July', 7 : 'Aug', 8 : 'Sep', 9 : 'Oct', 10 : 'Nov', 11 : 'Dec'}\n",
    "\n",
    "revenue = []\n",
    "expenses = []\n",
    "for i in range(12):   \n",
    "    revenue.append(float(input('Enter the revenue for {0} month : $'.format(month[i]))))\n",
    "    expenses.append(float(input('Enter the expenses for {0} month : $'.format(month[i]))))\n",
    "\n",
    "print('------------------------------------------------------------------------------------')\n",
    "print('Revenue for the year is :', revenue)\n",
    "print('Expenses for the year is :', expenses)\n"
   ]
  },
  {
   "cell_type": "code",
   "execution_count": 3,
   "metadata": {},
   "outputs": [
    {
     "name": "stdout",
     "output_type": "stream",
     "text": [
      "Profit for the year before tax deduction is:  [2522.67, 1911.39, -3707.79, -2914.31, -599.92, 7265.24, 8210.55, 3944.97, 3328.39, -2238.65, 659.6, 11629.54]\n",
      "------------------------------------------------------------------------------------\n",
      "Profit after tax deduction is : [2018.14, 1529.11, -2966.23, -2331.45, -479.94, 5812.19, 6568.44, 3155.98, 2662.71, -1790.92, 527.68, 9303.63]\n",
      "------------------------------------------------------------------------------------\n",
      "Profit margin for the year is : [0.14, 0.2, -0.34, -0.25, -0.06, 0.72, 0.57, 0.32, 0.26, -0.12, 0.05, 0.6]\n",
      "------------------------------------------------------------------------------------\n",
      "The average of Profit for the entire year is : 2000.78\n",
      "------------------------------------------------------------------------------------\n",
      "Jan is a good month and profit margin is 17 $\n",
      "Feb is a bad month and has a loss of 472 $\n",
      "Mar is a bad month and has a loss of 4967 $\n",
      "April is a bad month and has a loss of 4332 $\n",
      "May is a bad month and has a loss of 2481 $\n",
      "June is a good month and profit margin is 3811 $\n",
      "July is a good month and profit margin is 4568 $\n",
      "Aug is a good month and profit margin is 1155 $\n",
      "Sep is a good month and profit margin is 662 $\n",
      "Oct is a bad month and has a loss of 3792 $\n",
      "Nov is a bad month and has a loss of 1473 $\n",
      "Dec is a good month and profit margin is 7303 $\n",
      "------------------------------------------------------------------------------------\n",
      "Mar is the worst month with a loss of 2966.23 $\n",
      "Dec is the best month with a profit of 9303.63 $\n",
      "------------------------------------------------------------------------------------\n"
     ]
    }
   ],
   "source": [
    "from math import fabs\n",
    "\n",
    "# Calculating Profit for each month \n",
    "profit_before_tax = []\n",
    "for i in range(len(revenue)):\n",
    "    #print('Profit for month {0} is {1}'.format(i, round(revenue[i] - expenses[i],2))) \n",
    "    profit_before_tax.append(round(revenue[i] - expenses[i],2))\n",
    "# Calculating profit before tax deduction\n",
    "#print('------------------------------------------------------------------------------------')\n",
    "print('Profit for the year before tax deduction is: ', profit_before_tax)\n",
    "print('------------------------------------------------------------------------------------')\n",
    "\n",
    "# Calculating profit after tax deduction \n",
    "# tax rate is 20 %\n",
    "profit_after_tax = []\n",
    "profit_margin = []\n",
    "profit_mean = 0\n",
    "for i in range(len(revenue)):\n",
    "    profit_after_tax.append(round(profit_before_tax[i] *0.8, 2))\n",
    "    profit_margin.append(round(profit_after_tax[i] / revenue[i], 2))\n",
    "profit_mean = round(sum(profit_after_tax) / 12, 2)\n",
    "\n",
    "print('Profit after tax deduction is :', profit_after_tax)\n",
    "print('------------------------------------------------------------------------------------')\n",
    "print('Profit margin for the year is :', profit_margin)\n",
    "print('------------------------------------------------------------------------------------')\n",
    "print('The average of Profit for the entire year is :', profit_mean)\n",
    "print('------------------------------------------------------------------------------------')\n",
    "\n",
    "# Finding good and bad months\n",
    "good_month = []\n",
    "bad_month = []\n",
    "for i in range(len(c)):\n",
    "    if profit_after_tax[i] >= profit_mean:\n",
    "        print('{0} is a good month and profit margin is {1} $'.format(month[i], round(profit_after_tax[i] - profit_mean), 2))\n",
    "    else:\n",
    "        print('{0} is a bad month and has a loss of {1} $'.format(month[i], round(fabs(profit_after_tax[i] - profit_mean)), 2))\n",
    "print('------------------------------------------------------------------------------------')\n",
    "# Finding best and worst months\n",
    "best_month = max(profit_after_tax)\n",
    "worst_month = min(profit_after_tax)\n",
    "for i in range(len(revenue)):\n",
    "    if profit_after_tax[i] == best_month:\n",
    "        print('{0} is the best month with a profit of {1} $'.format(month[i], best_month))\n",
    "    if profit_after_tax[i] == worst_month:\n",
    "        print('{0} is the worst month with a loss of {1} $'.format(month[i], fabs(worst_month)))\n",
    "print('------------------------------------------------------------------------------------')"
   ]
  },
  {
   "cell_type": "markdown",
   "metadata": {},
   "source": [
    "#### Creating Data Frame of month and Profit after tax"
   ]
  },
  {
   "cell_type": "code",
   "execution_count": 4,
   "metadata": {},
   "outputs": [],
   "source": [
    "import pandas as pd"
   ]
  },
  {
   "cell_type": "code",
   "execution_count": 32,
   "metadata": {},
   "outputs": [
    {
     "name": "stdout",
     "output_type": "stream",
     "text": [
      "Profit after tax in dictionary is :\n",
      " {'Jan': 2018.14, 'Feb': 1529.11, 'Mar': -2966.23, 'Apr': -2331.45, 'May': -479.94, 'June': 5812.19, 'July': 6568.44, 'Aug': 3155.98, 'Sep': 2662.71, 'Oct': -1790.92, 'Nov': 527.68, 'Dec': 9303.63}\n",
      "------------------------------------------------------------------------------------\n",
      "Converting Profit after tax dictionary to data frame\n",
      "Profit after tax data farme is :\n",
      "    Month  ProfitAfterTax\n",
      "0    Jan         2018.14\n",
      "1    Feb         1529.11\n",
      "2    Mar        -2966.23\n",
      "3    Apr        -2331.45\n",
      "4    May         -479.94\n",
      "5   June         5812.19\n",
      "6   July         6568.44\n",
      "7    Aug         3155.98\n",
      "8    Sep         2662.71\n",
      "9    Oct        -1790.92\n",
      "10   Nov          527.68\n",
      "11   Dec         9303.63\n",
      "------------------------------------------------------------------------------------\n"
     ]
    }
   ],
   "source": [
    "profit_after_tax_dict = {}\n",
    "month_list = ['Jan', 'Feb', 'Mar', 'Apr', 'May', 'June', 'July', 'Aug', 'Sep', 'Oct', 'Nov', 'Dec']\n",
    "for i in range(len(revenue)):\n",
    "#     print(month_list[i], end = '\\t')\n",
    "#     print(profit_after_tax[i], end = '\\t')\n",
    "#     profit_after_tax_df = {k : v for k in month_list[i] and v in profit_after_tax[i]}\n",
    "    k = month_list[i]\n",
    "    v = profit_after_tax[i]\n",
    "    profit_after_tax_dict[k] = v\n",
    "\n",
    "print('Profit after tax in dictionary is :\\n',profit_after_tax_dict)\n",
    "print('------------------------------------------------------------------------------------')\n",
    "print('Converting Profit after tax dictionary to data frame')\n",
    "profit_after_tax_df = pd.DataFrame(list(profit_after_tax_dict.items()), columns= ['Month', \"ProfitAfterTax\"])\n",
    "print('Profit after tax data farme is :\\n', profit_after_tax_df)\n",
    "print('------------------------------------------------------------------------------------')"
   ]
  },
  {
   "cell_type": "markdown",
   "metadata": {},
   "source": [
    "#### Creating bar chart of Profit and month"
   ]
  },
  {
   "cell_type": "code",
   "execution_count": 52,
   "metadata": {},
   "outputs": [],
   "source": [
    "import matplotlib.pyplot as plt"
   ]
  },
  {
   "cell_type": "code",
   "execution_count": 62,
   "metadata": {},
   "outputs": [
    {
     "data": {
      "image/png": "[encoded data removed]",
      "text/plain": [
       "<Figure size 720x432 with 1 Axes>"
      ]
     },
     "metadata": {
      "needs_background": "light"
     },
     "output_type": "display_data"
    }
   ],
   "source": [
    "plt.rcParams['figure.figsize'] = 10, 6\n",
    "import warnings\n",
    "warnings.filterwarnings('ignore')\n",
    "plt.bar(month_list, profit_after_tax, color='royalblue', alpha=0.7)\n",
    "plt.grid(color='#95a5a6', linestyle='--', linewidth=2, axis='y', alpha=0.7)\n",
    "plt.xlabel('Month')\n",
    "plt.ylabel('Profit After Tax')\n",
    "plt.title('Profit after tax for each month')\n",
    "plt.show()"
   ]
  },
  {
   "cell_type": "code",
   "execution_count": null,
   "metadata": {},
   "outputs": [],
   "source": []
  }
 ],
 "metadata": {
  "kernelspec": {
   "display_name": "Python 3",
   "language": "python",
   "name": "python3"
  },
  "language_info": {
   "codemirror_mode": {
    "name": "ipython",
    "version": 3
   },
   "file_extension": ".py",
   "mimetype": "text/x-python",
   "name": "python",
   "nbconvert_exporter": "python",
   "pygments_lexer": "ipython3",
   "version": "3.8.5"
  }
 },
 "nbformat": 4,
 "nbformat_minor": 4
}
